{
 "cells": [
  {
   "cell_type": "markdown",
   "id": "1c5ab710",
   "metadata": {},
   "source": [
    "# Cleaning Data Exercises\n",
    "\n",
    "For the exercises, you will be cleaning data in your chosen data set. [Towards Data Science](https://towardsdatascience.com/data-cleaning-in-python-the-ultimate-guide-2020-c63b88bf0a0d) outlines the steps we should take to clean data using a different data set from Kaggle. While you should use this article as a reference, make sure not to copy paste as the two data sets are very different!\n",
    "\n",
    "To start cleaning data, we first need to create a dataframe from the CSV and print out any relevant info to make sure our dataframe is ready to go."
   ]
  },
  {
   "cell_type": "code",
   "execution_count": 1,
   "id": "da3513e0",
   "metadata": {},
   "outputs": [],
   "source": [
    "# Import pandas and any other libraries you need here. HINT: Check out the article to see what they imported to get started!\n",
    "import pandas as pd\n",
    "import numpy as np\n",
    "import seaborn as sns\n",
    "import matplotlib.pyplot as plt\n",
    "import matplotlib.mlab as mlab\n",
    "import matplotlib\n",
    "# Create a new dataframe from your CSV"
   ]
  },
  {
   "cell_type": "code",
   "execution_count": 2,
   "id": "045387eb",
   "metadata": {},
   "outputs": [],
   "source": [
    "# Print out any information you need to understand your dataframe\n"
   ]
  },
  {
   "cell_type": "markdown",
   "id": "81717993",
   "metadata": {},
   "source": [
    "Now you have a dataframe set up, you are ready to dive in and start cleaning!"
   ]
  },
  {
   "cell_type": "markdown",
   "id": "303aee35",
   "metadata": {},
   "source": [
    "## Missing Data\n",
    "\n",
    "In the Towards Data Science article, they list 3 techniques for detecting any missing data frame. Try all three before deciding on a way to solve any missing data issues."
   ]
  },
  {
   "cell_type": "code",
   "execution_count": 3,
   "id": "68fd548c",
   "metadata": {},
   "outputs": [],
   "source": [
    "# Plot a heatmap of any missing data\n"
   ]
  },
  {
   "cell_type": "code",
   "execution_count": 4,
   "id": "0ae37b5d",
   "metadata": {},
   "outputs": [],
   "source": [
    "# Try out a missing data percentage list! \n"
   ]
  },
  {
   "cell_type": "code",
   "execution_count": 5,
   "id": "51c62f02",
   "metadata": {},
   "outputs": [],
   "source": [
    "# Plot a missing data histogram\n"
   ]
  },
  {
   "cell_type": "markdown",
   "id": "5e791fbe",
   "metadata": {},
   "source": [
    "Now that you have tried all 3 techniques for detecting missing data, did you find any? Reading through the article, which solution do you think will help you clean the data set and handle the missing data? Try out your solution below!"
   ]
  },
  {
   "cell_type": "code",
   "execution_count": 6,
   "id": "53c2d34c",
   "metadata": {},
   "outputs": [],
   "source": [
    "# Handle any missing data in your dataframe.\n"
   ]
  },
  {
   "cell_type": "markdown",
   "id": "be2121df",
   "metadata": {},
   "source": [
    "## Irregular Data\n",
    "\n",
    "With missing data out of the way, turn your attention to any outliers. Just as we did for missing data, we first need to detect the outliers. The article outlines the top techniques for finding outliers in a dataset."
   ]
  },
  {
   "cell_type": "code",
   "execution_count": 7,
   "id": "3a4f2cff",
   "metadata": {},
   "outputs": [],
   "source": [
    "# Plot a histogram to see if there are any outliers.\n"
   ]
  },
  {
   "cell_type": "code",
   "execution_count": 8,
   "id": "ae9008bb",
   "metadata": {},
   "outputs": [],
   "source": [
    "# Use the describe() method\n"
   ]
  },
  {
   "cell_type": "code",
   "execution_count": 9,
   "id": "4af44edf",
   "metadata": {},
   "outputs": [],
   "source": [
    "# Plot a bar chart\n"
   ]
  },
  {
   "cell_type": "markdown",
   "id": "da8d6080",
   "metadata": {},
   "source": [
    "Which of the three techniques helped you find any outliers? Now that you have found outliers, what will you do to solve the problem?"
   ]
  },
  {
   "cell_type": "code",
   "execution_count": 10,
   "id": "3ee7d694",
   "metadata": {},
   "outputs": [],
   "source": [
    "# Handle any outliers in your dataframe"
   ]
  },
  {
   "cell_type": "markdown",
   "id": "c802522d",
   "metadata": {},
   "source": [
    "## Unnecessary Data\n",
    "\n",
    "Unnecessary data could be duplicates, irrelevant, or any uninformative data. Dive into each type of unnecessary data to see if there is any in the data set. Make sure to make note of how you would handle each type of unnecessary data."
   ]
  },
  {
   "cell_type": "code",
   "execution_count": 11,
   "id": "8de40f50",
   "metadata": {},
   "outputs": [],
   "source": [
    "# Look for any irrelevant data in the dataframe. How will you handle it?"
   ]
  },
  {
   "cell_type": "code",
   "execution_count": null,
   "id": "888b49f1",
   "metadata": {},
   "outputs": [],
   "source": [
    "# Look for duplicates. How will you handle any duplicates?"
   ]
  },
  {
   "cell_type": "code",
   "execution_count": null,
   "id": "cbd6ee14",
   "metadata": {},
   "outputs": [],
   "source": [
    "# Think about what data in the dataframe may be uninformative. Make note here of what situations may render data uninformative and how you would handle it?"
   ]
  },
  {
   "cell_type": "markdown",
   "id": "bdcad93a",
   "metadata": {},
   "source": [
    "## Inconsistent Data\n",
    "\n",
    "Inconsistent data is anything that messes with your model. This is likely due to inconsistent formatting and can be addressed by re-formatting all values in a column or row."
   ]
  },
  {
   "cell_type": "code",
   "execution_count": null,
   "id": "4fc6bbb7",
   "metadata": {},
   "outputs": [],
   "source": [
    "# Try to convert all the strings in a column to lower or upper case. "
   ]
  }
 ],
 "metadata": {
  "kernelspec": {
   "display_name": "Python 3 (ipykernel)",
   "language": "python",
   "name": "python3"
  },
  "language_info": {
   "codemirror_mode": {
    "name": "ipython",
    "version": 3
   },
   "file_extension": ".py",
   "mimetype": "text/x-python",
   "name": "python",
   "nbconvert_exporter": "python",
   "pygments_lexer": "ipython3",
   "version": "3.9.12"
  }
 },
 "nbformat": 4,
 "nbformat_minor": 5
}
